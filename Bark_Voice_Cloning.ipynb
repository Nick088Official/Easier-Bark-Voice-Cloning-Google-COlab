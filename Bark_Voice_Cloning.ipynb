{
  "nbformat": 4,
  "nbformat_minor": 0,
  "metadata": {
    "colab": {
      "provenance": [],
      "machine_shape": "hm",
      "gpuType": "V100",
      "include_colab_link": true
    },
    "kernelspec": {
      "name": "python3",
      "display_name": "Python 3"
    },
    "language_info": {
      "name": "python"
    },
    "accelerator": "GPU"
  },
  "cells": [
    {
      "cell_type": "markdown",
      "metadata": {
        "id": "view-in-github",
        "colab_type": "text"
      },
      "source": [
        "<a href=\"https://colab.research.google.com/github/Nick088Official/Easier-Bark-Voice-Cloning-Google-COlab/blob/main/Bark_Voice_Cloning.ipynb\" target=\"_parent\"><img src=\"https://colab.research.google.com/assets/colab-badge.svg\" alt=\"Open In Colab\"/></a>"
      ]
    },
    {
      "cell_type": "code",
      "execution_count": null,
      "metadata": {
        "id": "kwiJronKqYMv",
        "cellView": "form"
      },
      "outputs": [],
      "source": [
        "#@title Install Bark Voice Cloning Fork\n",
        "!git clone https://github.com/KevinWang676/Bark-Voice-Cloning.git\n",
        "%cd Bark-Voice-Cloning\n",
        "!pip install -r requirements.txt"
      ]
    },
    {
      "cell_type": "code",
      "source": [
        "#@title Run Bark Voice Cloning Fork\n",
        "!python app.py"
      ],
      "metadata": {
        "id": "qhD8LMjzFJNh",
        "cellView": "form"
      },
      "execution_count": null,
      "outputs": []
    }
  ]
}